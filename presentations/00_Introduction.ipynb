{
 "cells": [
  {
   "cell_type": "markdown",
   "metadata": {
    "slideshow": {
     "slide_type": "slide"
    }
   },
   "source": [
    "# Let's learn d3: Session 1\n",
    "\n",
    "# April 19th, 2019"
   ]
  },
  {
   "cell_type": "markdown",
   "metadata": {
    "slideshow": {
     "slide_type": "slide"
    }
   },
   "source": [
    "# What is d3?\n",
    "\n",
    "_D3.js is a JavaScript library for manipulating documents based on data. D3 helps you bring data to life using HTML, SVG, and CSS. D3’s emphasis on web standards gives you the full capabilities of modern browsers without tying yourself to a proprietary framework, combining powerful visualization components and a data-driven approach to DOM manipulation._"
   ]
  },
  {
   "cell_type": "markdown",
   "metadata": {
    "slideshow": {
     "slide_type": "fragment"
    }
   },
   "source": [
    "<figure>\n",
    "<img src='static/acronyms_everywhere.jpg' alt='Acronyms everywhere' style='transform:translateX(50%);width=100%'/>\n",
    "</figure>"
   ]
  },
  {
   "cell_type": "markdown",
   "metadata": {
    "slideshow": {
     "slide_type": "slide"
    }
   },
   "source": [
    "### Quick example"
   ]
  },
  {
   "cell_type": "code",
   "execution_count": null,
   "metadata": {},
   "outputs": [],
   "source": [
    "from IPython.display import HTML"
   ]
  },
  {
   "cell_type": "code",
   "execution_count": 34,
   "metadata": {
    "slideshow": {
     "slide_type": "-"
    }
   },
   "outputs": [
    {
     "data": {
      "text/html": [
       "\n",
       "<script src='https://d3js.org/d3.v5.min.js'></script>\n",
       "\n",
       "<p id='example'> This is a quick example of d3.js</p>\n",
       "\n",
       "<script>d3.select('#example').style('color', 'blue');</script>\n"
      ],
      "text/plain": [
       "<IPython.core.display.HTML object>"
      ]
     },
     "execution_count": 34,
     "metadata": {},
     "output_type": "execute_result"
    }
   ],
   "source": [
    "HTML(\"\"\"\n",
    "<script src='https://d3js.org/d3.v5.min.js'></script>\n",
    "\n",
    "<p id='example'> This is a quick example of d3.js</p>\n",
    "\n",
    "<script>d3.select('#example').style('color', 'blue');</script>\n",
    "\"\"\")"
   ]
  },
  {
   "cell_type": "code",
   "execution_count": null,
   "metadata": {
    "slideshow": {
     "slide_type": "-"
    }
   },
   "outputs": [],
   "source": [
    "HTML(\"<p id='example'> This is a quick example of d3.js</p>\")"
   ]
  },
  {
   "cell_type": "code",
   "execution_count": null,
   "metadata": {
    "slideshow": {
     "slide_type": "-"
    }
   },
   "outputs": [],
   "source": [
    "HTML(\"<script>d3.select('#example').style('color', 'blue');</script>\")"
   ]
  },
  {
   "cell_type": "markdown",
   "metadata": {
    "slideshow": {
     "slide_type": "slide"
    }
   },
   "source": [
    "# What is HTML?\n",
    "\n",
    "Lorem ipsum dolor amet normcore XOXO twee mlkshk kogi forage, occupy meh plaid intelligentsia blue bottle synth. Art party shoreditch woke tilde scenester, yuccie photo booth messenger bag DIY migas XOXO williamsburg. Readymade keytar gluten-free, leggings echo park shaman synth squid. Kinfolk meditation distillery raw denim poutine edison bulb, shoreditch keytar hot chicken meh umami. Squid helvetica whatever, forage butcher truffaut poutine wayfarers semiotics brunch."
   ]
  },
  {
   "cell_type": "markdown",
   "metadata": {
    "slideshow": {
     "slide_type": "slide"
    }
   },
   "source": [
    "# How does HTML look like?\n",
    "\n",
    "mybinder link\n",
    "github repo\n",
    "etc"
   ]
  },
  {
   "cell_type": "markdown",
   "metadata": {
    "slideshow": {
     "slide_type": "slide"
    }
   },
   "source": [
    "# What is the DOM?\n",
    "\n",
    "Lorem ipsum dolor amet normcore XOXO twee mlkshk kogi forage, occupy meh plaid intelligentsia blue bottle synth. Art party shoreditch woke tilde scenester, yuccie photo booth messenger bag DIY migas XOXO williamsburg. Readymade keytar gluten-free, leggings echo park shaman synth squid. Kinfolk meditation distillery raw denim poutine edison bulb, shoreditch keytar hot chicken meh umami. Squid helvetica whatever, forage butcher truffaut poutine wayfarers semiotics brunch."
   ]
  },
  {
   "cell_type": "markdown",
   "metadata": {
    "slideshow": {
     "slide_type": "slide"
    }
   },
   "source": [
    "# What is CSS?\n",
    "\n",
    "Lorem ipsum dolor amet normcore XOXO twee mlkshk kogi forage, occupy meh plaid intelligentsia blue bottle synth. Art party shoreditch woke tilde scenester, yuccie photo booth messenger bag DIY migas XOXO williamsburg. Readymade keytar gluten-free, leggings echo park shaman synth squid. Kinfolk meditation distillery raw denim poutine edison bulb, shoreditch keytar hot chicken meh umami. Squid helvetica whatever, forage butcher truffaut poutine wayfarers semiotics brunch."
   ]
  },
  {
   "cell_type": "code",
   "execution_count": null,
   "metadata": {
    "slideshow": {
     "slide_type": "fragment"
    }
   },
   "outputs": [],
   "source": [
    "%%html\n",
    "<style>\n",
    ".random-text {\n",
    "    background-color:blue;\n",
    "}"
   ]
  },
  {
   "cell_type": "code",
   "execution_count": null,
   "metadata": {
    "slideshow": {
     "slide_type": "fragment"
    }
   },
   "outputs": [],
   "source": [
    "%%html\n",
    "<p class='random-text'> Hi everyone.</p>"
   ]
  },
  {
   "cell_type": "markdown",
   "metadata": {
    "slideshow": {
     "slide_type": "slide"
    }
   },
   "source": [
    "# What is the SVG?\n",
    "\n",
    "Lorem ipsum dolor amet normcore XOXO twee mlkshk kogi forage, occupy meh plaid intelligentsia blue bottle synth. Art party shoreditch woke tilde scenester, yuccie photo booth messenger bag DIY migas XOXO williamsburg. Readymade keytar gluten-free, leggings echo park shaman synth squid. Kinfolk meditation distillery raw denim poutine edison bulb, shoreditch keytar hot chicken meh umami. Squid helvetica whatever, forage butcher truffaut poutine wayfarers semiotics brunch."
   ]
  },
  {
   "cell_type": "code",
   "execution_count": null,
   "metadata": {},
   "outputs": [],
   "source": [
    "%%html\n",
    "<svg>\n",
    "    <path d=\"M 10,30 40,30 50,50 60,30 70,90\" />\n",
    "</svg>"
   ]
  },
  {
   "cell_type": "markdown",
   "metadata": {
    "slideshow": {
     "slide_type": "slide"
    }
   },
   "source": [
    "# What is the JavaScript?\n",
    "\n",
    "Lorem ipsum dolor amet normcore XOXO twee mlkshk kogi forage, occupy meh plaid intelligentsia blue bottle synth. Art party shoreditch woke tilde scenester, yuccie photo booth messenger bag DIY migas XOXO williamsburg. Readymade keytar gluten-free, leggings echo park shaman synth squid. Kinfolk meditation distillery raw denim poutine edison bulb, shoreditch keytar hot chicken meh umami. Squid helvetica whatever, forage butcher truffaut poutine wayfarers semiotics brunch."
   ]
  },
  {
   "cell_type": "markdown",
   "metadata": {
    "slideshow": {
     "slide_type": "slide"
    }
   },
   "source": [
    "# JavaScript basics\n",
    "\n",
    "primitive types: int, float, strings\n",
    "\n",
    "functions\n",
    "\n",
    "lists\n",
    "\n",
    "JSON\n",
    "\n",
    "\n",
    "Lorem ipsum dolor amet normcore XOXO twee mlkshk kogi forage, occupy meh plaid intelligentsia blue bottle synth. Art party shoreditch woke tilde scenester, yuccie photo booth messenger bag DIY migas XOXO williamsburg. Readymade keytar gluten-free, leggings echo park shaman synth squid. Kinfolk meditation distillery raw denim poutine edison bulb, shoreditch keytar hot chicken meh umami. Squid helvetica whatever, forage butcher truffaut poutine wayfarers semiotics brunch."
   ]
  },
  {
   "cell_type": "markdown",
   "metadata": {
    "slideshow": {
     "slide_type": "slide"
    }
   },
   "source": [
    "# System requirements\n",
    "\n",
    "Integrated Development Editor (IDE) - makes things easy\n",
    "\n",
    "notepad app in your computer - a little harder\n",
    "\n",
    "software to launch a server in your computer - a **lot** easier than it sounds. either python or `npm live-server`. We have access to python on shiner. we can just go there.\n",
    "\n",
    "There's also things like coder.com where you have an instance of VS Code online for free. We can install anything we want there and develop the code there.\n",
    "\n",
    "Lorem ipsum dolor amet normcore XOXO twee mlkshk kogi forage, occupy meh plaid intelligentsia blue bottle synth. Art party shoreditch woke tilde scenester, yuccie photo booth messenger bag DIY migas XOXO williamsburg. Readymade keytar gluten-free, leggings echo park shaman synth squid. Kinfolk meditation distillery raw denim poutine edison bulb, shoreditch keytar hot chicken meh umami. Squid helvetica whatever, forage butcher truffaut poutine wayfarers semiotics brunch."
   ]
  }
 ],
 "metadata": {
  "kernelspec": {
   "display_name": "Python 3",
   "language": "python",
   "name": "python3"
  },
  "language_info": {
   "codemirror_mode": {
    "name": "ipython",
    "version": 3
   },
   "file_extension": ".py",
   "mimetype": "text/x-python",
   "name": "python",
   "nbconvert_exporter": "python",
   "pygments_lexer": "ipython3",
   "version": "3.7.3"
  },
  "livereveal": {
   "autolaunch": true,
   "header": "<link rel='stylesheet' href='https://use.fontawesome.com/releases/v5.8.1/css/all.css' integrity='sha384-50oBUHEmvpQ+1lW4y57PTFmhCaXp0ML5d60M1M7uH2+nqUivzIebhndOJK28anvf' crossorigin='anonymous'><link rel='stylesheet' href='static/style.css' crossorigin='anonymous'><div class='myheader' style='transform:translate(10%, 15px);'><h2>Let's Learn d3!</h2><h3>April 19th, 2019</h3></div>",
   "theme": "solarized",
   "transition": "slide"
  }
 },
 "nbformat": 4,
 "nbformat_minor": 2
}
