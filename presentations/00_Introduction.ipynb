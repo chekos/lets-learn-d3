{
 "cells": [
  {
   "cell_type": "markdown",
   "metadata": {
    "slideshow": {
     "slide_type": "slide"
    }
   },
   "source": [
    "# Let's learn d3: Session 1\n",
    "\n",
    "# April 19th, 2019"
   ]
  },
  {
   "cell_type": "markdown",
   "metadata": {
    "slideshow": {
     "slide_type": "slide"
    }
   },
   "source": [
    "# What is d3?\n",
    "\n",
    "_D3.js is a JavaScript library for manipulating documents based on data. D3 helps you bring data to life using HTML, SVG, and CSS. D3’s emphasis on web standards gives you the full capabilities of modern browsers without tying yourself to a proprietary framework, combining powerful visualization components and a data-driven approach to DOM manipulation._"
   ]
  },
  {
   "cell_type": "markdown",
   "metadata": {
    "slideshow": {
     "slide_type": "fragment"
    }
   },
   "source": [
    "<figure>\n",
    "<img src='static/acronyms_everywhere.jpg' alt='Acronyms everywhere' style='transform:translateX(50%);width=100%'/>\n",
    "</figure>"
   ]
  },
  {
   "cell_type": "markdown",
   "metadata": {
    "slideshow": {
     "slide_type": "slide"
    }
   },
   "source": [
    "# What is the DOM?\n",
    "\n",
    "When a web page is loaded, the browser creates a **Document Object Model** of the page.\n",
    "\n",
    "The HTML DOM model is constructed as a tree of Objects:\n",
    "\n",
    "![DOM](static/img_htmltree.gif)"
   ]
  },
  {
   "cell_type": "markdown",
   "metadata": {
    "slideshow": {
     "slide_type": "slide"
    }
   },
   "source": [
    "# What is HTML?\n",
    "\n",
    "_HyperText Markup Language (HTML) is a markup language for creating a webpage. Webpages are usually viewed in a web browser. They can include writing, links, pictures, and even sound and video. HTML is used to mark and describe each of these kinds of content so the web browser can display them correctly._\n",
    "\n",
    "HTML is the standard markup language for Web pages\n",
    "\n",
    "HTML elements are the building blocks of HTML pages\n",
    "\n",
    "HTML elements are represented by `<>` tags"
   ]
  },
  {
   "cell_type": "markdown",
   "metadata": {
    "slideshow": {
     "slide_type": "slide"
    }
   },
   "source": [
    "# How does HTML look like?\n",
    "\n",
    "```html\n",
    "<!DOCTYPE html>\n",
    "<html>\n",
    "    <head>\n",
    "        <title>Simple html file</title>\n",
    "    </head>\n",
    "    <body>\n",
    "        <h1>hi everyone</h1>\n",
    "        <p>this is a very simple html file.</p>\n",
    "    </body>\n",
    "</html>\n",
    "```"
   ]
  },
  {
   "cell_type": "markdown",
   "metadata": {
    "slideshow": {
     "slide_type": "slide"
    }
   },
   "source": [
    "## Quick example of d3\n",
    " \n",
    "```html\n",
    "<!DOCTYPE html>\n",
    "<html>\n",
    "<head>\n",
    "    <title>Simple html file</title>\n",
    "    <script src=\"https://d3js.org/d3.v5.min.js\"></script>\n",
    "</head>\n",
    "<body>\n",
    "    <h1>hi everyone</h1>\n",
    "    <p>this is a very simple html file.</p>\n",
    "\n",
    "    <script>\n",
    "        d3.selectAll(\"p\").style(\"color\", \"blue\")\n",
    "    </script>\n",
    "</body>\n",
    "</html>\n",
    "```\n"
   ]
  },
  {
   "cell_type": "markdown",
   "metadata": {
    "slideshow": {
     "slide_type": "slide"
    }
   },
   "source": [
    "# What is CSS?\n",
    "\n",
    "**CSS** stands for _Cascading Style Sheets_. CSS describes how HTML elements are to be displayed.\n",
    "\n",
    "**how it looks**:\n",
    "```css\n",
    "h1 {\n",
    "    font-family: Arial;\n",
    "    background-color: blue;\n",
    "}\n",
    "```\n",
    "\n",
    "You can select elements by different attributes like `class` or `id` as well as their `type`. This example above grabs all the `h1` _tags_ and applies the style enclosed in the `{}` brackets.\n",
    "\n",
    "To select and element by it's `class` you use `.` before the class name. To select an element by it's `id` you use the `#` symbol. `class`es can repeat. `id`s are unique. "
   ]
  },
  {
   "cell_type": "code",
   "execution_count": null,
   "metadata": {
    "slideshow": {
     "slide_type": "slide"
    }
   },
   "outputs": [],
   "source": [
    "%%html\n",
    "<style>\n",
    ".random-text {\n",
    "    background-color:blue;\n",
    "}\n",
    "\n",
    "#other-text {\n",
    "    background-color:red;\n",
    "}\n",
    "</style>"
   ]
  },
  {
   "cell_type": "code",
   "execution_count": null,
   "metadata": {
    "slideshow": {
     "slide_type": "-"
    }
   },
   "outputs": [],
   "source": [
    "%%html\n",
    "<p class='random-text'> Hi everyone.</p>\n",
    "<p id=\"other-text\"> This is an example of how to use CSS. </p>"
   ]
  },
  {
   "cell_type": "markdown",
   "metadata": {
    "slideshow": {
     "slide_type": "slide"
    }
   },
   "source": [
    "# What is SVG?\n",
    "\n",
    "**Scalable Vector Graphics** are a simple mathematical representation of images that scale. \n",
    "\n",
    "The HTML <svg> element is a container for SVG graphics.\n",
    "\n",
    "SVG has several methods for drawing paths, boxes, circles, text, and graphic images."
   ]
  },
  {
   "cell_type": "code",
   "execution_count": null,
   "metadata": {
    "slideshow": {
     "slide_type": "fragment"
    }
   },
   "outputs": [],
   "source": [
    "%%html\n",
    "<svg>\n",
    "    <path d=\"M 10,30 40,30 50,50 60,30 70,90\" />\n",
    "</svg>"
   ]
  },
  {
   "cell_type": "code",
   "execution_count": null,
   "metadata": {
    "slideshow": {
     "slide_type": "fragment"
    }
   },
   "outputs": [],
   "source": [
    "%%html\n",
    "<svg>\n",
    "    <circle cx=\"50\" cy=\"50\" r=\"40\"/>\n",
    "</svg>"
   ]
  },
  {
   "cell_type": "markdown",
   "metadata": {
    "slideshow": {
     "slide_type": "slide"
    }
   },
   "source": [
    "# What is the JavaScript?\n",
    "\n",
    "JavaScript is the Programming Language for the Web.\n",
    "\n",
    "It can update and change both **HTML** and **CSS**.\n",
    "\n",
    "It can also can calculate, manipulate and validate data."
   ]
  },
  {
   "cell_type": "markdown",
   "metadata": {
    "slideshow": {
     "slide_type": "slide"
    }
   },
   "source": [
    "# JavaScript basics\n",
    "\n",
    "Data types: \n",
    "- Numbers\n",
    "- Strings\n",
    "- Objects\n",
    "- Arrays\n",
    "- Functions"
   ]
  },
  {
   "cell_type": "markdown",
   "metadata": {
    "slideshow": {
     "slide_type": "subslide"
    }
   },
   "source": [
    "##### Objects\n",
    "JavaScript objects follow <b>J</b>ava<b>S</b>cript <b>O</b>bject **N**otation (JSON), which looks like this:\n",
    "\n",
    "```javascript\n",
    "employee = {\n",
    "    \"firstName\":\"John\", \n",
    "    \"lastName\":\"Doe\"\n",
    "}\n",
    "```"
   ]
  },
  {
   "cell_type": "markdown",
   "metadata": {
    "slideshow": {
     "slide_type": "subslide"
    }
   },
   "source": [
    "##### Arrays\n",
    "Arrays in JavaScript are enclosed by square brackets `[]`\n",
    "```javascript\n",
    "programming_languages = ['python', 'R', 'stata', 'sas', 'spss']\n",
    "```\n",
    "\n",
    "and they can contain different types of data - not just one:\n",
    "```javascript\n",
    "array_of_random_stuff = [1.5, 'a string', 4, ['this is an array', 'inside another array'], 'end']\n",
    "```"
   ]
  },
  {
   "cell_type": "markdown",
   "metadata": {
    "slideshow": {
     "slide_type": "subslide"
    }
   },
   "source": [
    "##### Functions\n",
    "\n",
    "_A function is a JavaScript procedure—a set of statements that performs a task or calculates a value. To use a function, you must define it somewhere in the scope from which you wish to call it._\n",
    "\n",
    "A **function definition** (also called a **function declaration**, or **function statement**) consists of the function keyword, followed by:\n",
    "\n",
    "- The name of the function.\n",
    "- A list of parameters to the function, enclosed in parentheses and separated by commas.\n",
    "- The JavaScript statements that define the function, enclosed in curly brackets, `{ }`.\n",
    "\n",
    "```javascript\n",
    "function square(number) {\n",
    "  return number * number;\n",
    "}\n",
    "```"
   ]
  },
  {
   "cell_type": "markdown",
   "metadata": {
    "slideshow": {
     "slide_type": "slide"
    }
   },
   "source": [
    "# So what do you need to write d3 code\n",
    "\n",
    "1. Something to write code in:\n",
    "    * Integrated Development Environment (IDE) - software that facilitates writing code\n",
    "      - [Visual Studio Code](https://code.visualstudio.com/)\n",
    "      - [Atom](https://atom.io/)\n",
    "      - [Sublime Text](https://www.sublimetext.com/)\n",
    "\n",
    "    * Text editor - our MoWo's have a **notepad** app"
   ]
  },
  {
   "cell_type": "markdown",
   "metadata": {
    "slideshow": {
     "slide_type": "slide"
    }
   },
   "source": [
    "# So what do you need to write d3 code\n",
    "\n",
    "2. d3:\n",
    "    * At the top of your HTML file you can add:\n",
    "        ```javascript\n",
    "            <script src=\"https://d3js.org/d3.v5.min.js\"></script>\n",
    "        ```\n",
    "      which will _get_ d3 from their website - this doesn't work if you are running code in our servers because they don't have access to the internet.\n",
    "    * from d3js.org you can also download the zip file and change the _path_ to it in your HTML code\n",
    "        ```javascript\n",
    "            <script src=\"U:/Sanchez/d3/d3.js/\"></script>\n",
    "        ```"
   ]
  }
 ],
 "metadata": {
  "kernelspec": {
   "display_name": "Python 3",
   "language": "python",
   "name": "python3"
  },
  "language_info": {
   "codemirror_mode": {
    "name": "ipython",
    "version": 3
   },
   "file_extension": ".py",
   "mimetype": "text/x-python",
   "name": "python",
   "nbconvert_exporter": "python",
   "pygments_lexer": "ipython3",
   "version": "3.7.3"
  },
  "livereveal": {
   "autolaunch": true,
   "header": "<link rel='stylesheet' href='https://use.fontawesome.com/releases/v5.8.1/css/all.css' integrity='sha384-50oBUHEmvpQ+1lW4y57PTFmhCaXp0ML5d60M1M7uH2+nqUivzIebhndOJK28anvf' crossorigin='anonymous'><link rel='stylesheet' href='static/style.css' crossorigin='anonymous'><div class='myheader' style='transform:translate(10%, 15px);'><h2>Let's Learn d3!</h2><h3>April 19th, 2019</h3></div>",
   "theme": "solarized",
   "transition": "slide"
  }
 },
 "nbformat": 4,
 "nbformat_minor": 2
}
